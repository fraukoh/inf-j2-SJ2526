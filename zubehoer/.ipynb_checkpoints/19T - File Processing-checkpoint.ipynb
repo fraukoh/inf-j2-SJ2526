{
 "cells": [
  {
   "cell_type": "markdown",
   "metadata": {},
   "source": [
    "# File Processing\n",
    "\n",
    "\n"
   ]
  },
  {
   "cell_type": "markdown",
   "metadata": {},
   "source": [
    "### Zugriff auf Dateien\n",
    "\n",
    "**open(filename,modus[,codierung])**<br>\n",
    "Die open-Funktion bietet dem Programmierer verschiedene Öffnen-Modi. Dabei wird die Art der zu öffnenden Datei (Text oder Bytearray) sowie der Zugriffsmodus mitgegeben:\n",
    "\n",
    "<img src=\"images/openmodus.png\" width=300>\n",
    "\n",
    "Da t für Text-File der Standard ist, kann das das t auch weggelassen werden.<br>\n",
    "Der Standard für die Codierung hängt vom eingesetzten Betriebssystem ab. Um hier auf Nummer sicher zu gehen, kann man hier **encoding='UTF8'** angeben.\n",
    "\n"
   ]
  },
  {
   "cell_type": "code",
   "execution_count": 37,
   "metadata": {},
   "outputs": [
    {
     "name": "stdout",
     "output_type": "stream",
     "text": [
      "Frank;Meyer;Radolfzell;07732/43452\n",
      "Peter;Rabe;Konstanz;07531/70021\n",
      "Otmar;Huber;Rosenheim;08031/7877-0\n",
      "Anna;Rabe;Radolfzell;07732/2343\n",
      "Oskar;Lindner;Konstanz;07531/890\n",
      "Anna;List;München;089/3434544\n",
      "Franziska;Huber;Rosenheim;08031/787878\n",
      "Sarah;Rabe;Konstanz;07531/343454\n",
      "****************************************\n",
      "Frank Meyer Radolfzell 07732/43452 \n",
      "****************************************\n",
      "Peter Rabe Konstanz 07531/70021 \n",
      "****************************************\n",
      "Otmar Huber Rosenheim 08031/7877-0 \n",
      "****************************************\n",
      "Anna Rabe Radolfzell 07732/2343 \n",
      "****************************************\n",
      "Oskar Lindner Konstanz 07531/890 \n",
      "****************************************\n",
      "Anna List München 089/3434544 \n",
      "****************************************\n",
      "Franziska Huber Rosenheim 08031/787878 \n",
      "****************************************\n",
      "Sarah Rabe Konstanz 07531/343454 \n",
      "****************************************\n"
     ]
    }
   ],
   "source": [
    "datei = open('data/adressen.txt','r', encoding='UTF8') #nur lesen\n",
    "for zeile in datei:\n",
    "    print(zeile.strip())\n",
    "datei.close()    \n",
    "    \n",
    "print(40 *'*')\n",
    "\n",
    "#Alternative \n",
    "with open('data/adressen.txt','r') as datei:\n",
    "    for zeile in datei:\n",
    "        strzeile = zeile.strip()\n",
    "        datenzeile = strzeile.split(';')\n",
    "        for wert in datenzeile:\n",
    "            print(wert,end=' ')\n",
    "        print('\\n'+40 * '*')    "
   ]
  },
  {
   "cell_type": "markdown",
   "metadata": {},
   "source": [
    "# Dateien beschreiben oder Werte anhängen"
   ]
  },
  {
   "cell_type": "code",
   "execution_count": 32,
   "metadata": {},
   "outputs": [
    {
     "name": "stdout",
     "output_type": "stream",
     "text": [
      "1 2 3 4 5\n"
     ]
    }
   ],
   "source": [
    "#Schreiben-Modus\n",
    "with open('data/zahlen.txt','w') as datei:\n",
    "    liste = [1,2,3,4,5]\n",
    "    for wert in liste:\n",
    "        datei.write(str(wert)+' ')\n",
    "        \n",
    "with open('data/zahlen.txt','r') as datei:                    \n",
    "    for zeile in datei:\n",
    "        print(zeile.strip())"
   ]
  },
  {
   "cell_type": "code",
   "execution_count": 34,
   "metadata": {},
   "outputs": [
    {
     "name": "stdout",
     "output_type": "stream",
     "text": [
      "1 2 3 4 5 6 7 8 9 6 7 8 9\n"
     ]
    }
   ],
   "source": [
    "#Anhängen-Modus\n",
    "with open('data/zahlen.txt','a') as datei:\n",
    "    liste = [6,7,8,9]\n",
    "    for wert in liste:\n",
    "        datei.write(str(wert)+' ')\n",
    "\n",
    "with open('data/zahlen.txt','r') as datei:\n",
    "    for zeile in datei:\n",
    "        print(zeile.strip())\n",
    "\n",
    "                    \n",
    "        "
   ]
  },
  {
   "cell_type": "markdown",
   "metadata": {},
   "source": [
    "## Fehlerbehandlung bei der Dateiverarbeitung\n",
    "\n",
    "Typische Fehler, wie \"Datei nicht vorhanden\" sollten in einer Fehlerbehandlung abgefangen werden. "
   ]
  },
  {
   "cell_type": "code",
   "execution_count": 20,
   "metadata": {},
   "outputs": [
    {
     "name": "stdout",
     "output_type": "stream",
     "text": [
      "Cannot open the file: [Errno 2] No such file or directory: 'data/adresssen.txt'\n"
     ]
    }
   ],
   "source": [
    "try:\n",
    "    with open('data/adresssen.txt','r') as datei:\n",
    "        for zeile in datei:\n",
    "            print(zeile.strip())\n",
    "except Exception as exc:\n",
    "    print(\"Cannot open the file:\", exc)           "
   ]
  },
  {
   "cell_type": "code",
   "execution_count": 22,
   "metadata": {},
   "outputs": [
    {
     "name": "stdout",
     "output_type": "stream",
     "text": [
      "The file could not be opened: No such file or directory\n"
     ]
    }
   ],
   "source": [
    "from os import strerror\n",
    "try:\n",
    "    with open(\"data/adresssen.txt\", \"r\") as datei:\n",
    "        print(datei.read())\n",
    "except Exception as exc:\n",
    "    print(\"The file could not be opened:\", strerror(exc.errno));\n"
   ]
  },
  {
   "cell_type": "markdown",
   "metadata": {},
   "source": [
    "#### Fehlercodes\n",
    "| errno \t| strerrno \t| description \t|\n",
    "|-\t|-\t|-\t|\n",
    "| errno.EACCES \t| Permission denied \t| The error occurs when you try, for example, to open a file with the read only attribute for writing. \t|\n",
    "| errno.EBADF  \t| Bad file number \t| The error occurs when you try, for example, to operate with an unopened stream. \t|\n",
    "| errno.EEXIST  \t| File exists \t| The error occurs when you try, for example, to rename a file with its previous name. \t|\n",
    "| errno.EFBIG  \t| File too large \t| The error occurs when you try to create a file that is larger than the maximum allowed by the operating system. \t|\n",
    "| errno.EISDIR  \t| Is a directory \t| The error occurs when you try to treat a directory name as the name of an ordinary file. \t|\n",
    "| errno.EMFILE  \t| Too many open files \t| The error occurs when you try to simultaneously open more streams than acceptable for your operating system. \t|\n",
    "| errno.ENOENT  \t| No such file or directory \t| The error occurs when you try to access a non-existent file/directory. \t|\n",
    "| errno.ENOSPC  \t| No space left on device \t| The error occurs when there is no free space on the media. \t|"
   ]
  },
  {
   "cell_type": "markdown",
   "metadata": {},
   "source": [
    "## bytearrays\n",
    "Dateien können auch als sogenannte bytearrays geöffnet werden.\n",
    "Unter einem bytearray kann man einen Container mit lauter bytes verstehen. Sie werden zum Beispiel für Bilder benutzt.\n",
    "Um einen bytearray zu erzeugen, benutzt man dessen Konstruktor. Der Parameter gibt die Anzahl der Felder an, die auch gleich mit 0 initialisiert werden."
   ]
  },
  {
   "cell_type": "code",
   "execution_count": 23,
   "metadata": {},
   "outputs": [
    {
     "name": "stdout",
     "output_type": "stream",
     "text": [
      "bytearray(b'\\x00\\x00\\x00\\x00\\x00\\x00\\x00\\x00\\x00\\x00')\n"
     ]
    }
   ],
   "source": [
    "data = bytearray(10)\n",
    "print(data)"
   ]
  },
  {
   "cell_type": "markdown",
   "metadata": {},
   "source": [
    "Wie man sieht, werden die Werte als Hexadezimalen abgebildet. Bei der Belegung der Inhalte ist nur der Wertebereich 0-255 gültig. Alles andere führt zu einem Typenfehler"
   ]
  },
  {
   "cell_type": "code",
   "execution_count": 24,
   "metadata": {},
   "outputs": [
    {
     "name": "stdout",
     "output_type": "stream",
     "text": [
      "0x0\n",
      "0x1\n",
      "0x2\n",
      "0x3\n",
      "0x4\n",
      "0x5\n",
      "0x6\n",
      "0x7\n",
      "0x8\n",
      "0x9\n"
     ]
    }
   ],
   "source": [
    "data = bytearray(10)\n",
    "\n",
    "for i in range(len(data)):\n",
    "    data[i] = i\n",
    "\n",
    "for b in data:\n",
    "    print(hex(b))"
   ]
  },
  {
   "cell_type": "markdown",
   "metadata": {},
   "source": [
    "Jetzt noch den bytearray in die Datei schreiben"
   ]
  },
  {
   "cell_type": "code",
   "execution_count": 38,
   "metadata": {},
   "outputs": [
    {
     "name": "stdout",
     "output_type": "stream",
     "text": [
      "0xa 0xb 0xc 0xd 0xe 0xf 0x10 0x11 0x12 0x13 "
     ]
    }
   ],
   "source": [
    "from os import strerror\n",
    "\n",
    "#Bytearray erzeugen und belegen\n",
    "data = bytearray(10)\n",
    "\n",
    "for i in range(len(data)):\n",
    "    data[i] = 10 + i\n",
    "\n",
    "#Datei beschreiben    \n",
    "try:\n",
    "    with open('file.bin', 'wb') as bf:\n",
    "        bf.write(data)\n",
    "except IOError as e:\n",
    "    print(\"I/O error occurred:\", strerr(e.errno))\n",
    "\n",
    "#Datei lesen    \n",
    "try:\n",
    "    with open('file.bin', 'rb') as bf:\n",
    "        bf.readinto(data)\n",
    "        for b in data:\n",
    "            print(hex(b),end=' ')\n",
    "            \n",
    "except IOError as e:\n",
    "    print(\"I/O error occurred:\", strerr(e.errno))"
   ]
  },
  {
   "cell_type": "markdown",
   "metadata": {},
   "source": [
    "Um eine Binärdatei zu lesen, kann man auch den read()-Befehl benutzen. Dieser liest den kompletten Inhalt der Datei aus, der dann direkt über den bytearray über den Konstruktor befüllen kann. Diese Methode sollte man nur anwenden, wenn man sicher ist, dass diese Menge auch im Speicher Platz hat. Um nur eine bestimmte Anzahl bytes einzulesen, kann man die Anzahl der bytes als Parameter mitgeben."
   ]
  },
  {
   "cell_type": "code",
   "execution_count": 27,
   "metadata": {},
   "outputs": [
    {
     "name": "stdout",
     "output_type": "stream",
     "text": [
      "0xa 0xb 0xc 0xd 0xe "
     ]
    }
   ],
   "source": [
    "data = bytearray(5)\n",
    "try:\n",
    "    with open('file.bin', 'rb') as bf:\n",
    "        data = bytearray(bf.read())\n",
    "\n",
    "    for b in data:\n",
    "        print(hex(b), end=' ')\n",
    "\n",
    "except IOError as e:\n",
    "    print(\"I/O error occurred:\", strerr(e.errno))\n"
   ]
  }
 ],
 "metadata": {
  "kernelspec": {
   "display_name": "Python 3",
   "language": "python",
   "name": "python3"
  },
  "language_info": {
   "codemirror_mode": {
    "name": "ipython",
    "version": 3
   },
   "file_extension": ".py",
   "mimetype": "text/x-python",
   "name": "python",
   "nbconvert_exporter": "python",
   "pygments_lexer": "ipython3",
   "version": "3.8.3"
  }
 },
 "nbformat": 4,
 "nbformat_minor": 4
}
